{
 "cells": [
  {
   "cell_type": "markdown",
   "id": "f0b691b4-1cb4-4084-855f-381b30025e32",
   "metadata": {},
   "source": [
    "The cumulative reward equation is:\n",
    "\n",
    "$G_t = \\sum_{t'=t}^{T} \\gamma^{t'-t} * r_{t'} * t'$.\n",
    "\n",
    "First, let's not think about the optimal implementation. I will first try to take a brute force approach...."
   ]
  },
  {
   "cell_type": "code",
   "execution_count": 1,
   "id": "8ba52b97-d7c2-4ae3-b185-809f3e4299a9",
   "metadata": {},
   "outputs": [],
   "source": [
    "def cumulative_reward_brute(rewards, gamma):\n",
    "    G_t = 0  # Initialize cumulative reward\n",
    "    T = len(rewards) - 1  # Get the final time step from the length of rewards list\n",
    "    for t_prime in range(T + 1):  # Loop through all future time steps t' = 0 to T\n",
    "        t_r = rewards[t_prime]  # Reward at time step t'\n",
    "        G_t += t_r * (gamma ** t_prime) * t_prime  # Apply the equation\n",
    "    return G_t"
   ]
  },
  {
   "cell_type": "code",
   "execution_count": 3,
   "id": "3d0ce9e6-3966-44ed-ad57-a465b069e78b",
   "metadata": {},
   "outputs": [
    {
     "name": "stdout",
     "output_type": "stream",
     "text": [
      "35.96085\n"
     ]
    }
   ],
   "source": [
    "rewards = [0, 1, 2, 3, 4, 5]\n",
    "gamma = 0.9\n",
    "G_t = cumulative_reward_brute(rewards, gamma)\n",
    "print(G_t)"
   ]
  },
  {
   "cell_type": "markdown",
   "id": "65f13e25-b4fb-427e-a079-5876301045c4",
   "metadata": {},
   "source": [
    "Now that I have the understanding of the mechanics of the equation, I will try to optimize the performance using NumPy"
   ]
  },
  {
   "cell_type": "code",
   "execution_count": 4,
   "id": "ad61a4bc-0a45-46a8-b6b0-0aa846c69410",
   "metadata": {},
   "outputs": [],
   "source": [
    "import numpy as np"
   ]
  },
  {
   "cell_type": "code",
   "execution_count": 5,
   "id": "9a6a5c3e-7ad9-43e9-ac36-aeefa7639504",
   "metadata": {},
   "outputs": [],
   "source": [
    "def cumulative_reward_vectorized(rewards, gamma):\n",
    "    T = len(rewards)  # number of time steps\n",
    "    t_prime = np.arange(T)  # array of time steps: [0, 1, 2, ...., T - 1]\n",
    "    discounted_rewards = rewards * (gamma ** t_prime) * t_prime\n",
    "    return np.sum(discounted_rewards)"
   ]
  },
  {
   "cell_type": "code",
   "execution_count": 6,
   "id": "cfc9ec07-eee4-4d13-946b-63efcaba16e1",
   "metadata": {},
   "outputs": [
    {
     "name": "stdout",
     "output_type": "stream",
     "text": [
      "35.96085\n"
     ]
    }
   ],
   "source": [
    "rewards = np.array([0, 1, 2, 3, 4, 5])\n",
    "gamma = 0.9\n",
    "G_t = cumulative_reward_vectorized(rewards, gamma)\n",
    "print(G_t)"
   ]
  },
  {
   "cell_type": "code",
   "execution_count": 7,
   "id": "a63118f8-287e-43d6-b967-55618a397796",
   "metadata": {},
   "outputs": [
    {
     "data": {
      "text/plain": [
       "True"
      ]
     },
     "execution_count": 7,
     "metadata": {},
     "output_type": "execute_result"
    }
   ],
   "source": [
    "cumulative_reward_brute([0, 1, 2, 3, 4, 5], gamma) == cumulative_reward_vectorized(np.array([0, 1, 2, 3, 4, 5]), gamma)"
   ]
  },
  {
   "cell_type": "code",
   "execution_count": null,
   "id": "864dfe18-799b-44c0-98bb-7ab5ef71e70b",
   "metadata": {},
   "outputs": [],
   "source": []
  }
 ],
 "metadata": {
  "kernelspec": {
   "display_name": "Python 3 (ipykernel)",
   "language": "python",
   "name": "python3"
  },
  "language_info": {
   "codemirror_mode": {
    "name": "ipython",
    "version": 3
   },
   "file_extension": ".py",
   "mimetype": "text/x-python",
   "name": "python",
   "nbconvert_exporter": "python",
   "pygments_lexer": "ipython3",
   "version": "3.12.7"
  }
 },
 "nbformat": 4,
 "nbformat_minor": 5
}
